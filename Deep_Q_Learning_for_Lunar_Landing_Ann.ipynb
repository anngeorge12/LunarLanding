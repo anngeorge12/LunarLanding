{
  "cells": [
    {
      "cell_type": "markdown",
      "metadata": {
        "id": "view-in-github",
        "colab_type": "text"
      },
      "source": [
        "<a href=\"https://colab.research.google.com/github/anngeorge12/LunarLanding/blob/main/Deep_Q_Learning_for_Lunar_Landing_Ann.ipynb\" target=\"_parent\"><img src=\"https://colab.research.google.com/assets/colab-badge.svg\" alt=\"Open In Colab\"/></a>"
      ]
    },
    {
      "cell_type": "markdown",
      "metadata": {
        "id": "LbZcI9ZXHl3a"
      },
      "source": [
        "# Deep Q-Learning for Lunar Landing"
      ]
    },
    {
      "cell_type": "markdown",
      "metadata": {
        "id": "E8yPRjteXgPb"
      },
      "source": [
        "## Part 0 - Installing the required packages and importing the libraries"
      ]
    },
    {
      "cell_type": "markdown",
      "metadata": {
        "id": "slEm5teGWjWU"
      },
      "source": [
        "### Installing Gymnasium"
      ]
    },
    {
      "cell_type": "code",
      "execution_count": null,
      "metadata": {
        "id": "dbnq3XpoKa_7",
        "colab": {
          "base_uri": "https://localhost:8080/"
        },
        "outputId": "f9098f25-2917-48dc-860a-f8f082e845ab"
      },
      "outputs": [
        {
          "output_type": "stream",
          "name": "stdout",
          "text": [
            "Requirement already satisfied: gymnasium in /usr/local/lib/python3.10/dist-packages (0.29.1)\n",
            "Requirement already satisfied: numpy>=1.21.0 in /usr/local/lib/python3.10/dist-packages (from gymnasium) (1.26.4)\n",
            "Requirement already satisfied: cloudpickle>=1.2.0 in /usr/local/lib/python3.10/dist-packages (from gymnasium) (2.2.1)\n",
            "Requirement already satisfied: typing-extensions>=4.3.0 in /usr/local/lib/python3.10/dist-packages (from gymnasium) (4.12.2)\n",
            "Requirement already satisfied: farama-notifications>=0.0.1 in /usr/local/lib/python3.10/dist-packages (from gymnasium) (0.0.4)\n",
            "Requirement already satisfied: gymnasium[accept-rom-license,atari] in /usr/local/lib/python3.10/dist-packages (0.29.1)\n",
            "Requirement already satisfied: numpy>=1.21.0 in /usr/local/lib/python3.10/dist-packages (from gymnasium[accept-rom-license,atari]) (1.26.4)\n",
            "Requirement already satisfied: cloudpickle>=1.2.0 in /usr/local/lib/python3.10/dist-packages (from gymnasium[accept-rom-license,atari]) (2.2.1)\n",
            "Requirement already satisfied: typing-extensions>=4.3.0 in /usr/local/lib/python3.10/dist-packages (from gymnasium[accept-rom-license,atari]) (4.12.2)\n",
            "Requirement already satisfied: farama-notifications>=0.0.1 in /usr/local/lib/python3.10/dist-packages (from gymnasium[accept-rom-license,atari]) (0.0.4)\n",
            "Requirement already satisfied: autorom~=0.4.2 in /usr/local/lib/python3.10/dist-packages (from autorom[accept-rom-license]~=0.4.2; extra == \"accept-rom-license\"->gymnasium[accept-rom-license,atari]) (0.4.2)\n",
            "Requirement already satisfied: shimmy<1.0,>=0.1.0 in /usr/local/lib/python3.10/dist-packages (from shimmy[atari]<1.0,>=0.1.0; extra == \"atari\"->gymnasium[accept-rom-license,atari]) (0.2.1)\n",
            "Requirement already satisfied: click in /usr/local/lib/python3.10/dist-packages (from autorom~=0.4.2->autorom[accept-rom-license]~=0.4.2; extra == \"accept-rom-license\"->gymnasium[accept-rom-license,atari]) (8.1.7)\n",
            "Requirement already satisfied: requests in /usr/local/lib/python3.10/dist-packages (from autorom~=0.4.2->autorom[accept-rom-license]~=0.4.2; extra == \"accept-rom-license\"->gymnasium[accept-rom-license,atari]) (2.31.0)\n",
            "Requirement already satisfied: tqdm in /usr/local/lib/python3.10/dist-packages (from autorom~=0.4.2->autorom[accept-rom-license]~=0.4.2; extra == \"accept-rom-license\"->gymnasium[accept-rom-license,atari]) (4.66.4)\n",
            "Requirement already satisfied: AutoROM.accept-rom-license in /usr/local/lib/python3.10/dist-packages (from autorom[accept-rom-license]~=0.4.2; extra == \"accept-rom-license\"->gymnasium[accept-rom-license,atari]) (0.6.1)\n",
            "Requirement already satisfied: ale-py~=0.8.1 in /usr/local/lib/python3.10/dist-packages (from shimmy[atari]<1.0,>=0.1.0; extra == \"atari\"->gymnasium[accept-rom-license,atari]) (0.8.1)\n",
            "Requirement already satisfied: importlib-resources in /usr/local/lib/python3.10/dist-packages (from ale-py~=0.8.1->shimmy[atari]<1.0,>=0.1.0; extra == \"atari\"->gymnasium[accept-rom-license,atari]) (6.4.0)\n",
            "Requirement already satisfied: charset-normalizer<4,>=2 in /usr/local/lib/python3.10/dist-packages (from requests->autorom~=0.4.2->autorom[accept-rom-license]~=0.4.2; extra == \"accept-rom-license\"->gymnasium[accept-rom-license,atari]) (3.3.2)\n",
            "Requirement already satisfied: idna<4,>=2.5 in /usr/local/lib/python3.10/dist-packages (from requests->autorom~=0.4.2->autorom[accept-rom-license]~=0.4.2; extra == \"accept-rom-license\"->gymnasium[accept-rom-license,atari]) (3.7)\n",
            "Requirement already satisfied: urllib3<3,>=1.21.1 in /usr/local/lib/python3.10/dist-packages (from requests->autorom~=0.4.2->autorom[accept-rom-license]~=0.4.2; extra == \"accept-rom-license\"->gymnasium[accept-rom-license,atari]) (2.0.7)\n",
            "Requirement already satisfied: certifi>=2017.4.17 in /usr/local/lib/python3.10/dist-packages (from requests->autorom~=0.4.2->autorom[accept-rom-license]~=0.4.2; extra == \"accept-rom-license\"->gymnasium[accept-rom-license,atari]) (2024.7.4)\n",
            "Reading package lists... Done\n",
            "Building dependency tree... Done\n",
            "Reading state information... Done\n",
            "swig is already the newest version (4.0.2-1ubuntu1).\n",
            "0 upgraded, 0 newly installed, 0 to remove and 45 not upgraded.\n",
            "Requirement already satisfied: gymnasium[box2d] in /usr/local/lib/python3.10/dist-packages (0.29.1)\n",
            "Requirement already satisfied: numpy>=1.21.0 in /usr/local/lib/python3.10/dist-packages (from gymnasium[box2d]) (1.26.4)\n",
            "Requirement already satisfied: cloudpickle>=1.2.0 in /usr/local/lib/python3.10/dist-packages (from gymnasium[box2d]) (2.2.1)\n",
            "Requirement already satisfied: typing-extensions>=4.3.0 in /usr/local/lib/python3.10/dist-packages (from gymnasium[box2d]) (4.12.2)\n",
            "Requirement already satisfied: farama-notifications>=0.0.1 in /usr/local/lib/python3.10/dist-packages (from gymnasium[box2d]) (0.0.4)\n",
            "Requirement already satisfied: box2d-py==2.3.5 in /usr/local/lib/python3.10/dist-packages (from gymnasium[box2d]) (2.3.5)\n",
            "Requirement already satisfied: pygame>=2.1.3 in /usr/local/lib/python3.10/dist-packages (from gymnasium[box2d]) (2.6.0)\n",
            "Requirement already satisfied: swig==4.* in /usr/local/lib/python3.10/dist-packages (from gymnasium[box2d]) (4.2.1)\n"
          ]
        }
      ],
      "source": [
        "!pip install gymnasium\n",
        "!pip install \"gymnasium[atari, accept-rom-license]\"\n",
        "!apt-get install -y swig\n",
        "!pip install gymnasium[box2d]"
      ]
    },
    {
      "cell_type": "markdown",
      "metadata": {
        "id": "brqiMN3UW9T9"
      },
      "source": [
        "### Importing the libraries"
      ]
    },
    {
      "cell_type": "code",
      "execution_count": null,
      "metadata": {
        "id": "mZaKXP_aMl9O"
      },
      "outputs": [],
      "source": [
        "import os\n",
        "import random\n",
        "import numpy as np\n",
        "import torch\n",
        "import torch.nn as nn\n",
        "import torch.optim as optim\n",
        "import torch.nn.functional as F\n",
        "import torch.autograd as autograd\n",
        "from torch.autograd import Variable\n",
        "from collections import deque, namedtuple"
      ]
    },
    {
      "cell_type": "markdown",
      "metadata": {
        "id": "EzlDKXvkXzGI"
      },
      "source": [
        "## Part 1 - Building the AI"
      ]
    },
    {
      "cell_type": "markdown",
      "metadata": {
        "id": "UtG6Zc83YYy3"
      },
      "source": [
        "### Creating the architecture of the Neural Network"
      ]
    },
    {
      "cell_type": "code",
      "source": [
        "class Network(nn.Module):\n",
        "  def __init__(self, state_size, action_size, seed = 42):\n",
        "      super(Network, self).__init__()\n",
        "      self.seed=torch.manual_seed(seed)\n",
        "      self.fc1 = nn.Linear(state_size, 64)\n",
        "      self.fc2 = nn.Linear(64, 64)\n",
        "      self.fc3 = nn.Linear(64, action_size)\n",
        "\n",
        "  def forward(self, state):\n",
        "    x = self.fc1(state)\n",
        "    x = F.relu(x)\n",
        "    x = self.fc2(x)\n",
        "    x = F.relu(x)\n",
        "    return self.fc3(x)\n"
      ],
      "metadata": {
        "id": "GvvMhVgDqsjg"
      },
      "execution_count": null,
      "outputs": []
    },
    {
      "cell_type": "markdown",
      "source": [
        "in the above function state_size = 8 as\n",
        "there are 8 i/p vectors and action_size = 4 as there are 4 different actions\n",
        "*   second part of the code is to coonect the neurons of the input to the layers(hidden)\n",
        "*   since there is no proper info on how many neurons are connected an optimal survey was 64,as the value for neurons to be connected(8 i/p--> 64 neurons)\n",
        "*   2 hidden layers of 64 neurons each are created(64 --> 64 neurons)\n",
        "*   the last hidden layer is connected to the o/p layer with action_size=4\n",
        "(64 neurons --> 4 o/p)\n",
        "\n",
        "\n",
        "\n"
      ],
      "metadata": {
        "id": "aeVo-QiHsweo"
      }
    },
    {
      "cell_type": "markdown",
      "source": [
        "function forward infos on how to create a forward propagation with i/p to the hidden layers(intermediate layers):\n",
        "1. the x variable hold the current i/p state\n",
        "2. the details from the current i/p state is passed to the intermediates using a rectifier function relu().\n",
        "3. the same is done with the other layers back and forth and the final layer fc3 is returned."
      ],
      "metadata": {
        "id": "SVXc0lF8v7NB"
      }
    },
    {
      "cell_type": "markdown",
      "metadata": {
        "id": "UxVrBnFWZKb1"
      },
      "source": [
        "## Part 2 - Training the AI"
      ]
    },
    {
      "cell_type": "markdown",
      "metadata": {
        "id": "T364fz9qZb2j"
      },
      "source": [
        "### Setting up the environment"
      ]
    },
    {
      "cell_type": "code",
      "source": [
        "import gymnasium as gym\n",
        "env = gym.make('LunarLander-v2')\n",
        "state_shape = env.observation_space.shape\n",
        "state_size = env.observation_space.shape[0]\n",
        "number_actions = env.action_space.n\n",
        "print('State Shape: ',state_shape)\n",
        "print('State Size: ',state_size)\n",
        "print('Action nos: ',number_actions)"
      ],
      "metadata": {
        "colab": {
          "base_uri": "https://localhost:8080/"
        },
        "id": "ZGj-9OJyyRTp",
        "outputId": "4b758277-b1d8-49e4-c75b-ecbb350634f7"
      },
      "execution_count": null,
      "outputs": [
        {
          "output_type": "stream",
          "name": "stdout",
          "text": [
            "State Shape:  (8,)\n",
            "State Size:  8\n",
            "Action nos:  4\n"
          ]
        }
      ]
    },
    {
      "cell_type": "markdown",
      "source": [
        "1. import the gymnasium package to get the lunar env\n",
        "2. state_shape vector holds 8 vectors\n",
        "3. state_size,variable that holds all the 8 i/p params at each time stamp\n",
        "4. number_actions is to work through the 4 actions."
      ],
      "metadata": {
        "id": "LN5BL5PYynJw"
      }
    },
    {
      "cell_type": "markdown",
      "metadata": {
        "id": "c_dZmOIvZgj-"
      },
      "source": [
        "### Initializing the hyperparameters"
      ]
    },
    {
      "cell_type": "code",
      "source": [
        "learning_rate = 5e-4\n",
        "minibatch_size = 100\n",
        "discount_factor = 0.99\n",
        "replay_buffer_size = int(1e5)\n",
        "interpolation_parameter = 1e-3"
      ],
      "metadata": {
        "id": "7II4qtFY0Zsj",
        "colab": {
          "base_uri": "https://localhost:8080/"
        },
        "outputId": "93f0eb04-03aa-4353-8d12-1abe1f70e278"
      },
      "execution_count": null,
      "outputs": [
        {
          "output_type": "stream",
          "name": "stderr",
          "text": [
            "/usr/local/lib/python3.10/dist-packages/ipykernel/ipkernel.py:283: DeprecationWarning: `should_run_async` will not call `transform_cell` automatically in the future. Please pass the result to `transformed_cell` argument and any exception that happen during thetransform in `preprocessing_exc_tuple` in IPython 7.17 and above.\n",
            "  and should_run_async(code)\n"
          ]
        }
      ]
    },
    {
      "cell_type": "markdown",
      "source": [
        "1. learning_rate is given that number as it was found as the optimal no for training the AI properly(might differ in others)\n",
        "2. minibatch variable is the no.of obs used to update the moral params(normally 100)\n",
        "3. discount factor variable the present value for future rewards\n",
        "if df is lower the agent considers only the current rewards\n",
        "if df is higher the the agent will consider the rewards obtained due to future actions\n",
        "4. replay buffer size is to implement experience replay(the memory of the AI to have multiple chances to adapt to a certain experience)\n",
        "giving it a value of 10^5 is to have that many experiences.\n",
        "5. interpolation variable is the param used to work around the sub updates given by the target.\n",
        "Note: to represent power values\n",
        "1e10 means 10 to the power of 10."
      ],
      "metadata": {
        "id": "AbHqqNKZ0aPC"
      }
    },
    {
      "cell_type": "markdown",
      "metadata": {
        "id": "8hD_Vs-bYnip"
      },
      "source": [
        "### Implementing Experience Replay"
      ]
    },
    {
      "cell_type": "code",
      "source": [
        "class ReplayMemory(object):\n",
        "  def __init__(self, capacity):\n",
        "    self.device = torch.device(\"cuda:0\" if torch.cuda.is_available() else \"cpu\")\n",
        "    self.capacity = capacity\n",
        "    self.memory = []\n",
        "\n",
        "  def push(self, event):\n",
        "    self.memory.append(event)\n",
        "    if len(self.memory)>self.capacity:\n",
        "      del self.memory[0]\n",
        "\n",
        "  def sample(self, batch_size):\n",
        "    experiences = random.sample(self.memory, k=batch_size)\n",
        "    states = torch.from_numpy(np.vstack([e[0] for e in experiences if e is not None])).float().to(self.device)\n",
        "    actions = torch.from_numpy(np.vstack([e[1] for e in experiences if e is not None])).long().to(self.device)\n",
        "    rewards = torch.from_numpy(np.vstack([e[2] for e in experiences if e is not None])).float().to(self.device)\n",
        "    next_states = torch.from_numpy(np.vstack([e[3] for e in experiences if e is not None])).float().to(self.device)\n",
        "    dones = torch.from_numpy(np.vstack([e[4] for e in experiences if e is not None])).to(torch.uint8).float().to(self.device)\n",
        "    return states,next_states,actions,rewards,dones\n"
      ],
      "metadata": {
        "id": "fUNCOj9F2up2"
      },
      "execution_count": null,
      "outputs": []
    },
    {
      "cell_type": "markdown",
      "source": [
        "this class to implement exp replay, the capacity param holds the memory space of the system\n",
        "1. the device param is if you need to execute the code outside collab.\n",
        "2. the memory is a list which contains the details of the state,action,reward and next state and if its done or not\n",
        "\n",
        "push() method:\n",
        "1. used to add the exp into memo buffer and make sure not to exceed the capacity\n",
        "2. event is the param which os added to the memo\n",
        "3. if memo is full the initial index of memo is freed as it is the oldest action presnt in the list.\n",
        "\n",
        "sample() method:\n",
        "1. takes batch_size as param to select no.of exp in one batch.\n",
        "2. exp variable takes any one exp from the memo and collects acc to the batch size.\n",
        "3. we loop through all the experiences and a stack them in order and to convert this numpy format data into torch the above statement is done\n",
        "4. we make sure we collect those exp that are available\n",
        "note:\n",
        "all the states are stacked together into torch tensors."
      ],
      "metadata": {
        "id": "UzkpK43H2vFc"
      }
    },
    {
      "cell_type": "markdown",
      "metadata": {
        "id": "JmEkbFbUY6Jt"
      },
      "source": [
        "### Implementing the DQN class"
      ]
    },
    {
      "cell_type": "code",
      "source": [
        "class Agent():\n",
        "  def __init__(self, state_size, action_size):\n",
        "    self.device = torch.device(\"cuda:0\" if torch.cuda.is_available() else \"cpu\")\n",
        "    self.state_size = state_size\n",
        "    self.action_size = action_size\n",
        "    self.local_qnetwork = Network(state_size, action_size).to(self.device)\n",
        "    self.target_qnetwork = Network(state_size, action_size).to(self.device)\n",
        "    self.optimizer = optim.Adam(self.local_qnetwork.parameters(),lr = learning_rate)\n",
        "    self.memory = ReplayMemory(replay_buffer_size)\n",
        "    self.t_step = 0\n",
        "\n",
        "  def step(self, state, action, reward, next_state, done):\n",
        "    self.memory.push((state, action, reward, next_state, done))\n",
        "    self.t_step = (self.t_step+1) % 4\n",
        "    if self.t_step == 0:\n",
        "      if len(self.memory.memory)> minibatch_size:\n",
        "        experiences = self.memory.sample(100)\n",
        "        self.learn(experiences, discount_factor)\n",
        "\n",
        "  def act(self, state, epsilon=0.):\n",
        "    state = torch.from_numpy(state).float().unsqueeze(0).to(self.device)\n",
        "    self.local_qnetwork.eval()\n",
        "    with torch.no_grad():\n",
        "      action_values = self.local_qnetwork(state)\n",
        "      self.local_qnetwork.train()\n",
        "      if random.random()>epsilon:\n",
        "        return np.argmax(action_values.cpu().data.numpy())\n",
        "      else:\n",
        "        return random.choice(np.arange(self.action_size))\n",
        "\n",
        "  def learn(self, experiences, discount_factor):\n",
        "    states, next_states, actions, rewards, dones = experiences\n",
        "    next_q_targets = self.target_qnetwork(next_states).detach().max(1)[0].unsqueeze(1)\n",
        "    q_targets = rewards+(discount_factor*next_q_targets*(1-dones))\n",
        "    q_expected = self.local_qnetwork(states).gather(1, actions)\n",
        "    loss = F.mse_loss(q_expected, q_targets)\n",
        "    self.optimizer.zero_grad()\n",
        "    loss.backward()\n",
        "    self.optimizer.step()\n",
        "    self.soft_update(self.local_qnetwork, self.target_qnetwork,interpolation_parameter)\n",
        "\n",
        "  def soft_update(self, local_model, target_model, interpolation_parameter):\n",
        "    for target_param, local_param in zip(target_model.parameters(), local_model.parameters()):\n",
        "      target_param.data.copy_(interpolation_parameter * local_param.data +(1.0 - interpolation_parameter) * target_param.data)\n",
        "\n",
        "\n"
      ],
      "metadata": {
        "id": "9J2lvkv69PQB"
      },
      "execution_count": null,
      "outputs": []
    },
    {
      "cell_type": "markdown",
      "source": [
        "creating the Agent to deal with the inputs and ouputs.\n",
        "1. we creating 2 Q-networks(local and target Q-network)\n",
        "2. the optimizer is the instance of the adam class.\n",
        "3. it takes the weights of the local network(this is done to updatae the weights so the lander or agent can adapt to the actions)\n",
        "4. the learning rate is also sent to the agent\n",
        "5. memory holds the memo size of the system thats been initialised\n",
        "6. t_step is basically the variable which states at what time updation of the weights must take place\n",
        "\n",
        "step() method:\n",
        "the method that is used to store the exp and decides when to learn from them.\n",
        "1. since push method takes an event to store into memo the parameters are decomposed as a tuple and the sent.\n",
        "2. the t_step variable is taken to be updated after every four steps.\n",
        "3. then you check if the memory variable of the same class which is linked to the memory variable of the ReplayMemory class is greater than the minibatch_size\n",
        "4. if the condition is true then some experiences are selected in random to form a minibatch for the agent to learn from.\n",
        "5. the learn method will be made later.....\n",
        "\n",
        "act() method:\n",
        "selects an action based on the given state using some action selection policy.\n",
        "1. state and epsilon is the method which is used to select a preferred action\n",
        "2. state is a numoy array therefore we are going to make it a torch tensor\n",
        "3. since we make almost 100 obs in one batch at a time this batch is also added as a vector dimension to refer to which batch it is from.\n",
        "4. index is put to zero so that all the batch is in the beginning\n",
        "5. we set the local qnetwrk to eval mode in order to make initial predictions so the the obtained y cap can be compared.\n",
        "6. the action value is obtained correspomding to the qnetwork value and go back to training mode\n",
        "7. based on the action values using epsilon greedy method we decide which is the the highest q value in order to perform action to move to the next state\n",
        "\n",
        "learn() method:\n",
        "used to update the agents q values or weights using prev experiences.\n",
        "1. first unpack all the exp into states,next_states, action,rewards and dones.\n",
        "2. we get the max value from the target network using the next_q_targets variable which detaches the value from the tensor.\n",
        "3. q_targets is a variable which calculates the value for the next state(bellmans eqn)\n",
        "4. q_expected is the predicted q value so we can compute the loss which is back prpogated to update into new q values.\n",
        "\n",
        "\n",
        "soft_update() method\n",
        "this updates the params of the target network\n",
        "1. it takes the local and target network along with interpolation by looping.\n",
        "2. the zip func helps in taking 2 params at the same time for the looping.\n",
        "3. the soft update happens by taking the avg of the local and targetted params.\n",
        "4. the formula is to prevent abrupt the changes in the env which can destabilize the agents learning."
      ],
      "metadata": {
        "id": "gs7KNsH79PgV"
      }
    },
    {
      "cell_type": "markdown",
      "metadata": {
        "id": "o1tZElccZmf6"
      },
      "source": [
        "### Initializing the DQN agent"
      ]
    },
    {
      "cell_type": "code",
      "source": [
        "agent = Agent(state_size, number_actions)"
      ],
      "metadata": {
        "id": "ubKpJFzZY_EI"
      },
      "execution_count": null,
      "outputs": []
    },
    {
      "cell_type": "markdown",
      "metadata": {
        "id": "E8v0PtUfaVQp"
      },
      "source": [
        "### Training the DQN agent"
      ]
    },
    {
      "cell_type": "code",
      "source": [
        "number_episodes = 2000\n",
        "maximum_no_timesteps = 1000\n",
        "epsilon_start_value = 1.0\n",
        "epsilon_end_value = 0.01\n",
        "epsilon_decay_value = 0.995\n",
        "epsilon = epsilon_start_value\n",
        "scores_on_100_eps = deque(maxlen = 100)\n",
        "\n",
        "for episode in range(1, number_episodes+1):\n",
        "  state, _ =env.reset()\n",
        "  score  = 0\n",
        "  for t in range(maximum_no_timesteps):\n",
        "    action = agent.act(state, epsilon)\n",
        "    next_state, reward, done, _, _ = env.step(action)\n",
        "    agent.step(state, action, reward, next_state, done)\n",
        "    state = next_state\n",
        "    score+= reward\n",
        "    if done:\n",
        "      break\n",
        "  scores_on_100_eps.append(score)\n",
        "  epsilon = max(epsilon_end_value, epsilon_decay_value * epsilon)\n",
        "  print('\\rEpisode{}\\tAverage Score:{:.2f}'.format(episode, np.mean(scores_on_100_eps)), end = \"\")\n",
        "  if episode%100==0:\n",
        "    print('\\rEpisode{}\\tAverage Score:{:.2f}'.format(episode, np.mean(scores_on_100_eps)))\n",
        "  if np.mean(scores_on_100_eps)>=200.0:\n",
        "    print('\\nEnv solved in {:d} episodes!\\tAverage Score: {:.2f}'.format(episode - 100, np.mean(scores_on_100_eps)))\n",
        "    torch.save(agent.local_qnetwork.state_dict(), 'checkpoint.pth')\n",
        "    break\n",
        "\n",
        "\n",
        "\n",
        "\n"
      ],
      "metadata": {
        "id": "Qm2xh1nAcn9W",
        "colab": {
          "base_uri": "https://localhost:8080/"
        },
        "outputId": "f3203584-4b09-4821-9b19-06dcd2e4b983"
      },
      "execution_count": null,
      "outputs": [
        {
          "output_type": "stream",
          "name": "stdout",
          "text": [
            "Episode100\tAverage Score:-106.06\n",
            "Episode200\tAverage Score:-25.48\n",
            "Episode300\tAverage Score:80.37\n",
            "Episode400\tAverage Score:201.30\n",
            "\n",
            "Env solved in 300 episodes!\tAverage Score: 201.30\n"
          ]
        }
      ]
    },
    {
      "cell_type": "markdown",
      "source": [
        "Training DQN Agent:\n",
        "1. the no.of episodes param is for keeping track how many learnings the agent should take.\n",
        "2. max no.of time_step per episode to make sure the agent is not stuck in one thing for a long time.\n",
        "the variables all are initialised above:\n",
        "\n",
        "Training the agent:\n",
        "1. looping through all the episodes\n",
        "2. state, _ this is used to reset the agent to its initial state. the underscore is to make sure that uneccesary info is discarded\n",
        "3. the core variable is to calculate all the cumulative freq.\n",
        "4. another for loop is to loop through the time steps for each episode.\n",
        "5. the act method of thr agent class is called to select an action\n",
        "6. the step and learn method are called byback propogating.\n",
        "Dynamic Print:\n",
        "to update the scores automatically.\n"
      ],
      "metadata": {
        "id": "zeuhL6aVcuSC"
      }
    },
    {
      "cell_type": "markdown",
      "metadata": {
        "id": "O8CNwdOTcCoP"
      },
      "source": [
        "## Part 3 - Visualizing the results"
      ]
    },
    {
      "cell_type": "code",
      "execution_count": null,
      "metadata": {
        "id": "cb9nVvU2Okhk",
        "colab": {
          "base_uri": "https://localhost:8080/",
          "height": 458
        },
        "outputId": "9aa5948c-e61b-4892-f60a-427c07ed0708"
      },
      "outputs": [
        {
          "output_type": "stream",
          "name": "stderr",
          "text": [
            "WARNING:imageio_ffmpeg:IMAGEIO FFMPEG_WRITER WARNING: input image is not divisible by macro_block_size=16, resizing from (600, 400) to (608, 400) to ensure video compatibility with most codecs and players. To prevent resizing, make your input image divisible by the macro_block_size or set the macro_block_size to 1 (risking incompatibility).\n"
          ]
        },
        {
          "output_type": "display_data",
          "data": {
            "text/plain": [
              "<IPython.core.display.HTML object>"
            ],
            "text/html": [
              "<video alt=\"test\" autoplay\n",
              "                loop controls style=\"height: 400px;\">\n",
              "                <source src=\"data:video/mp4;base64,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\" type=\"video/mp4\" />\n",
              "             </video>"
            ]
          },
          "metadata": {}
        }
      ],
      "source": [
        "import glob\n",
        "import io\n",
        "import base64\n",
        "import imageio\n",
        "from IPython.display import HTML, display\n",
        "from gym.wrappers.monitoring.video_recorder import VideoRecorder\n",
        "\n",
        "def show_video_of_model(agent, env_name):\n",
        "    env = gym.make(env_name, render_mode='rgb_array')\n",
        "    state, _ = env.reset()\n",
        "    done = False\n",
        "    frames = []\n",
        "    while not done:\n",
        "        frame = env.render()\n",
        "        frames.append(frame)\n",
        "        action = agent.act(state)\n",
        "        state, reward, done, _, _ = env.step(action.item())\n",
        "    env.close()\n",
        "    imageio.mimsave('video.mp4', frames, fps=30)\n",
        "\n",
        "show_video_of_model(agent, 'LunarLander-v2')\n",
        "\n",
        "def show_video():\n",
        "    mp4list = glob.glob('*.mp4')\n",
        "    if len(mp4list) > 0:\n",
        "        mp4 = mp4list[0]\n",
        "        video = io.open(mp4, 'r+b').read()\n",
        "        encoded = base64.b64encode(video)\n",
        "        display(HTML(data='''<video alt=\"test\" autoplay\n",
        "                loop controls style=\"height: 400px;\">\n",
        "                <source src=\"data:video/mp4;base64,{0}\" type=\"video/mp4\" />\n",
        "             </video>'''.format(encoded.decode('ascii'))))\n",
        "    else:\n",
        "        print(\"Could not find video\")\n",
        "\n",
        "show_video()"
      ]
    }
  ],
  "metadata": {
    "colab": {
      "provenance": [],
      "include_colab_link": true
    },
    "kernelspec": {
      "display_name": "Python 3",
      "name": "python3"
    },
    "language_info": {
      "name": "python"
    }
  },
  "nbformat": 4,
  "nbformat_minor": 0
}